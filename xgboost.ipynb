{
 "cells": [
  {
   "cell_type": "code",
   "execution_count": null,
   "id": "67211492",
   "metadata": {
    "vscode": {
     "languageId": "plaintext"
    }
   },
   "outputs": [],
   "source": [
    "import pandas as pd\n",
    "\n",
    "x_text = \"x_train.txt\"\n",
    "y_text = \"y_train.txt\"\n",
    "\n",
    "x_clients = \"x_test.txt\"\n",
    "\n",
    "df_variables = pd.read_csv(\n",
    "    x_text,\n",
    "    delimiter=\" \",\n",
    "    header=None,\n",
    ")\n",
    "\n",
    "df_labels = pd.read_csv(\n",
    "    y_text,\n",
    "    delimiter=\" \",\n",
    "    header=None,\n",
    ")\n",
    "\n",
    "df_variables_clients  = pd.read_csv(\n",
    "    x_clients,\n",
    "    delimiter=\" \",\n",
    "    header=None,\n",
    ")"
   ]
  }
 ],
 "metadata": {
  "language_info": {
   "name": "python"
  }
 },
 "nbformat": 4,
 "nbformat_minor": 5
}
